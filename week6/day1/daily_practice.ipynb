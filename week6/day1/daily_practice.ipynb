{
 "cells": [
  {
   "attachments": {},
   "cell_type": "markdown",
   "metadata": {},
   "source": [
    "A fair 6-sided die is rolled three times, independently.\n",
    "Which is more likely: a sum of 11 or a sum of 12?\n",
    "Find the probability for each scenario to test your intuition.\n",
    "Feel free to leverage Python to create your solution. Create whatever variables or functions that would help you arrive at the answer. Be sure to preserve the given names of the two variables!"
   ]
  },
  {
   "cell_type": "code",
   "execution_count": 3,
   "metadata": {},
   "outputs": [
    {
     "name": "stdout",
     "output_type": "stream",
     "text": [
      "0.125\n",
      "0.11574074074074074\n"
     ]
    }
   ],
   "source": [
    "counts = {k: 0 for k in range(3,18 + 1)}\n",
    "\n",
    "n_sides = 6\n",
    "\n",
    "possible_values = n_sides ** 3\n",
    "\n",
    "for d1 in range(1, n_sides + 1):\n",
    "\n",
    "    for d2 in range(1, n_sides + 1):\n",
    "\n",
    "        for d3 in range(1, n_sides + 1):\n",
    "\n",
    "            current_sum = sum([d1, d2, d3])\n",
    "\n",
    "            counts[current_sum] += 1\n",
    "\n",
    "p_sum_of_11 = counts[11] / possible_values\n",
    "p_sum_of_12 = counts[12] / possible_values\n",
    "\n",
    "print(p_sum_of_11)\n",
    "print(p_sum_of_12)"
   ]
  }
 ],
 "metadata": {
  "kernelspec": {
   "display_name": "base",
   "language": "python",
   "name": "python3"
  },
  "language_info": {
   "codemirror_mode": {
    "name": "ipython",
    "version": 3
   },
   "file_extension": ".py",
   "mimetype": "text/x-python",
   "name": "python",
   "nbconvert_exporter": "python",
   "pygments_lexer": "ipython3",
   "version": "3.9.13"
  },
  "orig_nbformat": 4,
  "vscode": {
   "interpreter": {
    "hash": "40d3a090f54c6569ab1632332b64b2c03c39dcf918b08424e98f38b5ae0af88f"
   }
  }
 },
 "nbformat": 4,
 "nbformat_minor": 2
}
