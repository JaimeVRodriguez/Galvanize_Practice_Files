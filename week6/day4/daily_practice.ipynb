{
 "cells": [
  {
   "attachments": {},
   "cell_type": "markdown",
   "metadata": {},
   "source": [
    "Implement function iterable_as_keys so that it takes an iterable (e.g. list, tuple, pandas.Series), the function returns a dictionary whose keys are the elements in the iterable and whose values are all empty lists."
   ]
  },
  {
   "cell_type": "code",
   "execution_count": 5,
   "metadata": {},
   "outputs": [],
   "source": [
    "from scipy import stats"
   ]
  },
  {
   "cell_type": "code",
   "execution_count": null,
   "metadata": {},
   "outputs": [],
   "source": [
    "def iterable_as_keys(iterable):\n",
    "    dictionary = {}\n",
    "    \n",
    "    for i in iterable:\n",
    "        dictionary[i] = []\n",
    "    \n",
    "    return dictionary\n",
    "    "
   ]
  },
  {
   "cell_type": "code",
   "execution_count": 2,
   "metadata": {},
   "outputs": [
    {
     "data": {
      "text/plain": [
       "{1: [], 2: [], 3: [], 4: [], 5: []}"
      ]
     },
     "execution_count": 2,
     "metadata": {},
     "output_type": "execute_result"
    }
   ],
   "source": [
    "a = [1, 2, 3, 4, 5]\n",
    "d = {}\n",
    "for i in a:\n",
    "    d[i] = []\n",
    "\n",
    "d\n"
   ]
  },
  {
   "cell_type": "markdown",
   "metadata": {},
   "source": [
    "A typist makes on average 2 mistakes per page. What is the probability of a particular page having no errors on it?"
   ]
  },
  {
   "cell_type": "code",
   "execution_count": 13,
   "metadata": {},
   "outputs": [
    {
     "name": "stdout",
     "output_type": "stream",
     "text": [
      "P(X = 0) = 0.1353352832366127\n"
     ]
    }
   ],
   "source": [
    "from scipy import stats\n",
    "\n",
    "# set up the distribution using scipy.stats\n",
    "dist = stats.poisson(2)\n",
    "\n",
    "# probability of a page having no errors\n",
    "p_no_errors_on_page = dist.pmf(0)\n",
    "\n",
    "# display probability\n",
    "print(f'P(X = 0) = {p_no_errors_on_page}')"
   ]
  }
 ],
 "metadata": {
  "kernelspec": {
   "display_name": "base",
   "language": "python",
   "name": "python3"
  },
  "language_info": {
   "codemirror_mode": {
    "name": "ipython",
    "version": 3
   },
   "file_extension": ".py",
   "mimetype": "text/x-python",
   "name": "python",
   "nbconvert_exporter": "python",
   "pygments_lexer": "ipython3",
   "version": "3.9.13"
  },
  "orig_nbformat": 4,
  "vscode": {
   "interpreter": {
    "hash": "40d3a090f54c6569ab1632332b64b2c03c39dcf918b08424e98f38b5ae0af88f"
   }
  }
 },
 "nbformat": 4,
 "nbformat_minor": 2
}
