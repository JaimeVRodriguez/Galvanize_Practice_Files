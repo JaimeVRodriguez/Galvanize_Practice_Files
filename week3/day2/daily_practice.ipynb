{
 "cells": [
  {
   "cell_type": "code",
   "execution_count": 1,
   "metadata": {},
   "outputs": [],
   "source": [
    "import numpy as np"
   ]
  },
  {
   "cell_type": "code",
   "execution_count": 8,
   "metadata": {},
   "outputs": [
    {
     "name": "stdout",
     "output_type": "stream",
     "text": [
      "[['Student' ' Math' ' English' ' Gym']\n",
      " ['Sanjay' ' 83' ' 87' ' 84']\n",
      " ['Sally' ' 93' ' 97' ' 94']\n",
      " ['Edgar' ' 73' ' 77' ' 74']]\n"
     ]
    }
   ],
   "source": [
    "# be sure to do your import\n",
    "import numpy as np\n",
    "\n",
    "\n",
    "# import the contents of grades.csv\n",
    "grades_array = np.loadtxt(\"grades.csv\", delimiter=\",\", dtype=str)\n",
    "\n",
    "print(grades_array)"
   ]
  },
  {
   "cell_type": "code",
   "execution_count": 9,
   "metadata": {},
   "outputs": [
    {
     "name": "stdout",
     "output_type": "stream",
     "text": [
      "[[83. 87. 84.]\n",
      " [93. 97. 94.]\n",
      " [73. 77. 74.]]\n"
     ]
    },
    {
     "name": "stderr",
     "output_type": "stream",
     "text": [
      "/var/folders/hr/by8v61fn78d0t79dw472nz6w0000gn/T/ipykernel_26896/3254342008.py:3: DeprecationWarning: `np.float` is a deprecated alias for the builtin `float`. To silence this warning, use `float` by itself. Doing this will not modify any behavior and is safe. If you specifically wanted the numpy scalar type, use `np.float64` here.\n",
      "Deprecated in NumPy 1.20; for more details and guidance: https://numpy.org/devdocs/release/1.20.0-notes.html#deprecations\n",
      "  only_grades = grades_array[1:, 1:].astype(np.float)\n"
     ]
    }
   ],
   "source": [
    "# a slice containing only the grades\n",
    "# as a float datatype\n",
    "only_grades = grades_array[1:, 1:].astype(np.float)\n",
    "\n",
    "print(only_grades)"
   ]
  },
  {
   "cell_type": "code",
   "execution_count": 11,
   "metadata": {},
   "outputs": [
    {
     "name": "stdout",
     "output_type": "stream",
     "text": [
      "Overall grades mean: 84.66666666666667\n"
     ]
    }
   ],
   "source": [
    "# the mean for all students across all classes\n",
    "overall_grades_mean = only_grades.mean()\n",
    "\n",
    "print(f\"Overall grades mean: {overall_grades_mean}\")"
   ]
  },
  {
   "cell_type": "code",
   "execution_count": 12,
   "metadata": {},
   "outputs": [
    {
     "name": "stdout",
     "output_type": "stream",
     "text": [
      "Sanja mean: 84.66666666666667\n",
      "Sally mean: 94.66666666666667\n",
      "Edgar mean: 74.66666666666667\n"
     ]
    }
   ],
   "source": [
    "# student means\n",
    "student_mean = only_grades.mean(axis=1)\n",
    "\n",
    "sanjay_mean = student_mean[0]\n",
    "sally_mean = student_mean[1]\n",
    "edgar_mean = student_mean[2]\n",
    "\n",
    "print(f\"Sanja mean: {sanjay_mean}\")\n",
    "print(f\"Sally mean: {sally_mean}\")\n",
    "print(f\"Edgar mean: {edgar_mean}\")"
   ]
  },
  {
   "cell_type": "code",
   "execution_count": 13,
   "metadata": {},
   "outputs": [
    {
     "name": "stdout",
     "output_type": "stream",
     "text": [
      "Gym mean: 84.0\n",
      "Math mean: 83.0\n",
      "English mean: 87.0\n"
     ]
    }
   ],
   "source": [
    "# grade means\n",
    "grade_mean = only_grades.mean(axis=0)\n",
    "\n",
    "gym_mean = grade_mean[2]\n",
    "math_mean = grade_mean[0]\n",
    "english_mean = grade_mean[1]\n",
    "\n",
    "print(f\"Gym mean: {gym_mean}\")\n",
    "print(f\"Math mean: {math_mean}\")\n",
    "print(f\"English mean: {english_mean}\")"
   ]
  }
 ],
 "metadata": {
  "kernelspec": {
   "display_name": "base",
   "language": "python",
   "name": "python3"
  },
  "language_info": {
   "codemirror_mode": {
    "name": "ipython",
    "version": 3
   },
   "file_extension": ".py",
   "mimetype": "text/x-python",
   "name": "python",
   "nbconvert_exporter": "python",
   "pygments_lexer": "ipython3",
   "version": "3.9.13"
  },
  "orig_nbformat": 4,
  "vscode": {
   "interpreter": {
    "hash": "40d3a090f54c6569ab1632332b64b2c03c39dcf918b08424e98f38b5ae0af88f"
   }
  }
 },
 "nbformat": 4,
 "nbformat_minor": 2
}
