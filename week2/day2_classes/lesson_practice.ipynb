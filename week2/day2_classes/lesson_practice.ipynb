{
 "cells": [
  {
   "cell_type": "markdown",
   "metadata": {},
   "source": [
    "#### Create class and 3 instances"
   ]
  },
  {
   "cell_type": "code",
   "execution_count": 5,
   "metadata": {},
   "outputs": [],
   "source": [
    "class Animal():\n",
    "    def __init__(self, species, num_legs):\n",
    "        self.species = species\n",
    "        self.num_legs = num_legs\n",
    "\n",
    "    def say_species(self):\n",
    "        print(f\"My species is: {self.species}\")\n",
    "\n",
    "dog = Animal(\"Canis\", 4)\n",
    "ostrich = Animal(\"Struthio\", 2)\n",
    "cobra = Animal(\"Elapidae\", 0)"
   ]
  },
  {
   "cell_type": "code",
   "execution_count": 9,
   "metadata": {},
   "outputs": [
    {
     "name": "stdout",
     "output_type": "stream",
     "text": [
      "Canis 4\n"
     ]
    }
   ],
   "source": [
    "print(dog.species, dog.num_legs)"
   ]
  },
  {
   "cell_type": "code",
   "execution_count": 8,
   "metadata": {},
   "outputs": [
    {
     "name": "stdout",
     "output_type": "stream",
     "text": [
      "My species is: Struthio\n"
     ]
    }
   ],
   "source": [
    "ostrich.say_species()"
   ]
  },
  {
   "cell_type": "code",
   "execution_count": 10,
   "metadata": {},
   "outputs": [],
   "source": [
    "class Account():\n",
    "    def __init__(self, name, account_balance = 0, check_or_save = \"Checking\"):\n",
    "        self.name = name\n",
    "        self.account_balance = account_balance\n",
    "        self.check_or_save = check_or_save\n",
    "\n",
    "account_john = Account(\"John\")\n",
    "account_sarah = Account(\"Sarah\", 1000, \"Savings\")"
   ]
  },
  {
   "cell_type": "code",
   "execution_count": 11,
   "metadata": {},
   "outputs": [
    {
     "name": "stdout",
     "output_type": "stream",
     "text": [
      "John 0 Checking\n",
      "Sarah 1000 Savings\n"
     ]
    }
   ],
   "source": [
    "print(account_john.name, account_john.account_balance, account_john.check_or_save)\n",
    "print(account_sarah.name, account_sarah.account_balance, account_sarah.check_or_save)"
   ]
  },
  {
   "cell_type": "markdown",
   "metadata": {},
   "source": [
    "#### Show scope"
   ]
  },
  {
   "cell_type": "code",
   "execution_count": 12,
   "metadata": {},
   "outputs": [],
   "source": [
    "my_name = \"John\"\n",
    "\n",
    "class Person():\n",
    "    def __init__(self, my_name):\n",
    "        self.my_name = my_name\n",
    "\n",
    "    def change_name(self):\n",
    "        my_name = \"Mario\"\n",
    "        return my_name"
   ]
  },
  {
   "cell_type": "code",
   "execution_count": 13,
   "metadata": {},
   "outputs": [
    {
     "name": "stdout",
     "output_type": "stream",
     "text": [
      "John\n",
      "Mario\n",
      "Chris\n",
      "Mark\n"
     ]
    }
   ],
   "source": [
    "new_person = Person(\"Chris\")\n",
    "mark = Person(\"Mark\")\n",
    "\n",
    "print(my_name)\n",
    "print(new_person.change_name())\n",
    "print(new_person.my_name)\n",
    "print(mark.my_name)"
   ]
  }
 ],
 "metadata": {
  "kernelspec": {
   "display_name": "Python 3.9.13 ('base')",
   "language": "python",
   "name": "python3"
  },
  "language_info": {
   "codemirror_mode": {
    "name": "ipython",
    "version": 3
   },
   "file_extension": ".py",
   "mimetype": "text/x-python",
   "name": "python",
   "nbconvert_exporter": "python",
   "pygments_lexer": "ipython3",
   "version": "3.9.13"
  },
  "orig_nbformat": 4,
  "vscode": {
   "interpreter": {
    "hash": "40d3a090f54c6569ab1632332b64b2c03c39dcf918b08424e98f38b5ae0af88f"
   }
  }
 },
 "nbformat": 4,
 "nbformat_minor": 2
}
