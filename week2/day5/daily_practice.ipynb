{
 "cells": [
  {
   "cell_type": "code",
   "execution_count": 7,
   "metadata": {},
   "outputs": [],
   "source": [
    "def calc_beers_on_the_wall(n=99):\n",
    "    \"\"\"Print how many beers remain on the wall.\n",
    "\n",
    "    Args:\n",
    "        n: int\n",
    "            Holds the number of beers that remain on the wall.\n",
    "    \"\"\"\n",
    "    if n == 0:\n",
    "        print(f\"{n} bottle of beer on the wall,\\n{n} bottle of beer,\\nTake one down, pass it around,\\n{n} bottles of beer on the wall!\")\n",
    "    if n == 1:\n",
    "        print(f\"{n} bottle of beer on the wall,\\n{n} bottle of beer,\\nTake one down, pass it around,\\n{n-1} bottles of beer on the wall!\")\n",
    "    else:\n",
    "        print(f\"{n} bottles of beer on the wall,\\n{n} bottles of beer,\\nTake one down, pass it around,\\n{n-1} bottles of beer on the wall!\")"
   ]
  },
  {
   "cell_type": "code",
   "execution_count": 8,
   "metadata": {},
   "outputs": [
    {
     "name": "stdout",
     "output_type": "stream",
     "text": [
      "99 bottles of beer on the wall,\n",
      "99 bottles of beer,\n",
      "Take one down, pass it around,\n",
      "98 bottles of beer on the wall!\n",
      "\n",
      "1 bottle of beer on the wall,\n",
      "1 bottle of beer,\n",
      "Take one down, pass it around,\n",
      "0 bottles of beer on the wall!\n",
      "\n",
      "55 bottles of beer on the wall,\n",
      "55 bottles of beer,\n",
      "Take one down, pass it around,\n",
      "54 bottles of beer on the wall!\n"
     ]
    }
   ],
   "source": [
    "calc_beers_on_the_wall()\n",
    "print()\n",
    "calc_beers_on_the_wall(1)\n",
    "print()\n",
    "calc_beers_on_the_wall(55)"
   ]
  },
  {
   "cell_type": "code",
   "execution_count": 45,
   "metadata": {},
   "outputs": [],
   "source": [
    "class Demo():\n",
    "\n",
    "    def __init__(self, num_list=None):\n",
    "\n",
    "        if num_list is None:\n",
    "            self.num_list = list()\n",
    "        else:\n",
    "            self.num_list = num_list\n",
    "\n",
    "    def __str__(self):\n",
    "\n",
    "        return f\"Demo: {self.num_list}\"\n",
    "\n",
    "    def __add__(self, other):\n",
    "\n",
    "        new_list = list()\n",
    "\n",
    "        # zip combines elements from two lists\n",
    "        # and ends with the shortest list\n",
    "        # if they are different lengths\n",
    "        for pair in zip(self.num_list, other.num_list):\n",
    "            new_list.append(sum(pair))\n",
    "\n",
    "\n",
    "        # concatenate remaining list items\n",
    "        if len(new_list) < len(self.num_list):\n",
    "            new_list += self.num_list[len(new_list):]\n",
    "        elif len(new_list) < len(other.num_list):\n",
    "            new_list += other.num_list[len(new_list):]\n",
    "\n",
    "        return Demo(new_list)\n",
    "\n",
    "    def __sub__(self, other):\n",
    "        new_list = []\n",
    "        to_be_added = []\n",
    "\n",
    "        for item1, item2 in zip(self.num_list, other.num_list):\n",
    "            new_list.append(item1 - item2)\n",
    "\n",
    "        if len(new_list) < len(self.num_list):\n",
    "            to_be_added = self.num_list[len(new_list):]\n",
    "            for num in to_be_added:\n",
    "                new_list.append(num)\n",
    "        elif len(new_list) < len(other.num_list):\n",
    "            to_be_added = other.num_list[len(new_list):]\n",
    "            for num in to_be_added:\n",
    "                new_list.append(0 - num)\n",
    "\n",
    "        return Demo(new_list)"
   ]
  },
  {
   "cell_type": "code",
   "execution_count": 44,
   "metadata": {},
   "outputs": [
    {
     "name": "stdout",
     "output_type": "stream",
     "text": [
      "Demo: [-1, -3, -4, 5, 6]\n",
      "Demo: [1, 3, 4, -5, -6]\n"
     ]
    }
   ],
   "source": [
    "demo1 = Demo([1,2,3])\n",
    "demo2 = Demo([4,5,6])\n",
    "\n",
    "test1 = Demo([3, 2, 1, 5, 6])\n",
    "test2 = Demo([4, 5, 5])\n",
    "\n",
    "# demo1.__add__(Demo([4,5,6]))\n",
    "\n",
    "print(test1.__sub__(Demo([4,5,5])))\n",
    "\n",
    "print(test2.__sub__(Demo([3,2,1,5,6])))"
   ]
  }
 ],
 "metadata": {
  "kernelspec": {
   "display_name": "base",
   "language": "python",
   "name": "python3"
  },
  "language_info": {
   "codemirror_mode": {
    "name": "ipython",
    "version": 3
   },
   "file_extension": ".py",
   "mimetype": "text/x-python",
   "name": "python",
   "nbconvert_exporter": "python",
   "pygments_lexer": "ipython3",
   "version": "3.9.13 (main, Aug 25 2022, 18:29:29) \n[Clang 12.0.0 ]"
  },
  "orig_nbformat": 4,
  "vscode": {
   "interpreter": {
    "hash": "40d3a090f54c6569ab1632332b64b2c03c39dcf918b08424e98f38b5ae0af88f"
   }
  }
 },
 "nbformat": 4,
 "nbformat_minor": 2
}
