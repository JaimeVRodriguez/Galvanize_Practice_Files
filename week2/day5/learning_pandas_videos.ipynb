{
 "cells": [
  {
   "cell_type": "markdown",
   "metadata": {
    "tags": []
   },
   "source": [
    "# Pandas \n",
    "<!-- cspell: ignore concat datetime fastparquet fsspec byteorder pytz dateutil setuptools Cython blosc xlsxwriter lxml etree pymysql datareader gcsfs numba numexpr odfpy openpyxl pyarrow pyreadstat pyxlsb sqlalchemy xarray xlrd xlwt zstandard tbody dataframe thead tbody vals -->"
   ]
  },
  {
   "cell_type": "markdown",
   "metadata": {
    "tags": []
   },
   "source": [
    "## Success Criteria\n",
    "Today I will be successful if I can ...\n",
    "\n",
    "* Create `Series` and `DataFrame` using\n",
    "    * Lists\n",
    "    * Numpy arrays\n",
    "    * CSV files\n",
    "* Use the various methods of a pandas `DataFrame`\n",
    "* Create new columns in `DataFrame`\n",
    "* Index and Slice `pandas` objects\n",
    "* Aggregate data in `DataFrame`s.\n",
    "* Join multiple `DataFrame`s."
   ]
  },
  {
   "cell_type": "markdown",
   "metadata": {
    "tags": []
   },
   "source": [
    "## What is Pandas?\n",
    "A Python library providing data structures and data analysis tools. The name comes from \"panel data\"; think about it as a way to visualize and sift through tables of data, similar to R or (heaven forfend) Excel.\n",
    "\n",
    "* They are built on top of NumPy NdArrays\n",
    "* http://pandas.pydata.org/pandas-docs/stable/comparison_with_sql.html\n",
    "\n",
    "### Benefits\n",
    "\n",
    "* Efficient storage and processing of data.\n",
    "* Includes many built in functions for data transformation, aggregations, and plotting.\n",
    "* Great for exploratory work.\n",
    "\n",
    "### Not so greats\n",
    "\n",
    "* Does not scale terribly well to large datasets."
   ]
  },
  {
   "cell_type": "markdown",
   "metadata": {},
   "source": [
    "## Pandas Documentation:\n",
    "\n",
    "* http://pandas.pydata.org/pandas-docs/stable/index.html"
   ]
  },
  {
   "cell_type": "markdown",
   "metadata": {},
   "source": [
    "# Setup"
   ]
  },
  {
   "cell_type": "markdown",
   "metadata": {
    "tags": []
   },
   "source": [
    "## Importing Libraries"
   ]
  },
  {
   "cell_type": "code",
   "execution_count": null,
   "metadata": {},
   "outputs": [],
   "source": [
    "# By convention import pandas like:\n",
    "import pandas as pd\n",
    "\n",
    "# By convention import numpy like:\n",
    "import numpy as np\n",
    "\n",
    "# For fake data\n",
    "from numpy.random import randn\n",
    "\n",
    "# set random seed to allow for reproducible results\n",
    "np.random.seed(123)\n",
    "\n",
    "# import matplotlib & provide inline command for Jupyter\n",
    "import matplotlib.pyplot as plt\n",
    "%matplotlib inline\n",
    "\n",
    "# For stylistic reasons:\n",
    "plt.style.use('ggplot')"
   ]
  },
  {
   "cell_type": "markdown",
   "metadata": {},
   "source": [
    "## Confirming Version\n",
    "\n",
    "Pandas Documentation:\n",
    "\n",
    "* http://pandas.pydata.org/pandas-docs/stable/index.html"
   ]
  },
  {
   "cell_type": "code",
   "execution_count": null,
   "metadata": {
    "scrolled": true,
    "tags": []
   },
   "outputs": [],
   "source": [
    "# show only pandas version\n",
    "print(pd.__version__)\n",
    "\n",
    "# more thorough\n",
    "print(pd.show_versions())"
   ]
  },
  {
   "cell_type": "markdown",
   "metadata": {},
   "source": [
    "## Options and Settings\n",
    "\n",
    "Pandas has many options and settings that you can adjust. \n",
    "\n",
    "Common settings you may wish to adjust include:\n",
    "\n",
    "- How many decimal places are displayed\n",
    "    - (This does not change the precision of the value stored in the DataFrame)\n",
    "- How many rows or columns are displayed of a large DataFrame\n",
    "\n",
    "\n",
    "Option and setting documentation for the current version can be found here:\n",
    "\n",
    "- https://pandas.pydata.org/docs/user_guide/options.html"
   ]
  },
  {
   "cell_type": "markdown",
   "metadata": {
    "tags": []
   },
   "source": [
    "# Pandas Series"
   ]
  },
  {
   "cell_type": "code",
   "execution_count": null,
   "metadata": {
    "tags": []
   },
   "outputs": [],
   "source": [
    "demo_series = pd.Series([5775, 373, 7, 42, np.nan, 33.9])\n",
    "\n",
    "print(f\"demo_series is: \\n{demo_series}\")"
   ]
  },
  {
   "cell_type": "code",
   "execution_count": null,
   "metadata": {
    "tags": []
   },
   "outputs": [],
   "source": [
    "# remember...\n",
    "type(np.nan)"
   ]
  },
  {
   "cell_type": "code",
   "execution_count": null,
   "metadata": {
    "tags": []
   },
   "outputs": [],
   "source": [
    "# demo_series has a shape attribute\n",
    "print(f\"The shape of demo_series is {demo_series.shape}\")"
   ]
  },
  {
   "cell_type": "markdown",
   "metadata": {
    "tags": []
   },
   "source": [
    "## Series containing Strings & mixed types"
   ]
  },
  {
   "cell_type": "code",
   "execution_count": null,
   "metadata": {
    "tags": []
   },
   "outputs": [],
   "source": [
    "# Strings or mixtures of types\n",
    "# will be stored as dtype: object\n",
    "\n",
    "world_series = pd.Series([\"Cubs\",\n",
    "                          \"Royals\",\n",
    "                          \"Giants\",\n",
    "                          \"Sox\",\n",
    "                          \"Giants\",\n",
    "                          \"Cards\",\n",
    "                          \"Giants\",\n",
    "                          42,\n",
    "                          None])\n",
    "\n",
    "world_series"
   ]
  },
  {
   "cell_type": "markdown",
   "metadata": {
    "tags": []
   },
   "source": [
    "## Series with Informative Indices"
   ]
  },
  {
   "cell_type": "code",
   "execution_count": null,
   "metadata": {
    "tags": []
   },
   "outputs": [],
   "source": [
    "# Instantiate series with 5 random numbers\n",
    "indexed_series = pd.Series(randn(5), \n",
    "                           index = ['California',\n",
    "                                    'Alabama',\n",
    "                                    'Indiana',\n",
    "                                    'Montana',\n",
    "                                    'Kentucky'])\n",
    "\n",
    "indexed_series"
   ]
  },
  {
   "cell_type": "code",
   "execution_count": null,
   "metadata": {
    "tags": []
   },
   "outputs": [],
   "source": [
    "alt_indexed_series = pd.Series(randn(5),\n",
    "                               index = ['Washington',\n",
    "                                        'Alabama',\n",
    "                                        'Montana',\n",
    "                                        'Indiana',\n",
    "                                        'New York'])\n",
    "alt_indexed_series"
   ]
  },
  {
   "cell_type": "markdown",
   "metadata": {
    "tags": []
   },
   "source": [
    "## Common indices are aligned for operations"
   ]
  },
  {
   "cell_type": "code",
   "execution_count": null,
   "metadata": {
    "tags": []
   },
   "outputs": [],
   "source": [
    "print(f\"indexed_series: \\n{indexed_series}\\n\")\n",
    "\n",
    "print(f\"alt_indexed_series: \\n{alt_indexed_series}\")"
   ]
  },
  {
   "cell_type": "code",
   "execution_count": null,
   "metadata": {
    "tags": []
   },
   "outputs": [],
   "source": [
    "# Pandas uses the index by default\n",
    "# to align series for arithmetic\n",
    "indexed_series + alt_indexed_series"
   ]
  },
  {
   "cell_type": "markdown",
   "metadata": {
    "tags": []
   },
   "source": [
    "## Pandas Series: Dates as Indices\n",
    "\n",
    "- https://pandas.pydata.org/pandas-docs/stable/user_guide/timeseries.html\n",
    "\n",
    "Time and Date Components:\n",
    "- https://pandas.pydata.org/pandas-docs/stable/user_guide/timeseries.html#time-date-components"
   ]
  },
  {
   "cell_type": "code",
   "execution_count": null,
   "metadata": {
    "tags": []
   },
   "outputs": [],
   "source": [
    "# Be sure to check out the help documentation\n",
    "# pd.date_range?"
   ]
  },
  {
   "cell_type": "code",
   "execution_count": null,
   "metadata": {
    "tags": []
   },
   "outputs": [],
   "source": [
    "# Datetime index\n",
    "dt_index = pd.date_range(start='2015-1-1',\n",
    "                         end='2015-11-1',\n",
    "                         freq='d')\n",
    "\n",
    "print(dt_index)\n",
    "print(dt_index.shape)"
   ]
  },
  {
   "cell_type": "code",
   "execution_count": null,
   "metadata": {
    "tags": []
   },
   "outputs": [],
   "source": [
    "# Datetime index\n",
    "dt_index = pd.date_range(start='2015-1-1',\n",
    "                         end='2015-11-1',\n",
    "                         freq='w')\n",
    "\n",
    "print(dt_index)\n",
    "print(dt_index.shape)"
   ]
  },
  {
   "cell_type": "code",
   "execution_count": null,
   "metadata": {
    "tags": []
   },
   "outputs": [],
   "source": [
    "# Datetime index\n",
    "dt_index = pd.date_range(start='2015-1-1',\n",
    "                         end='2015-11-1',\n",
    "                         freq='m')\n",
    "\n",
    "print(dt_index)\n",
    "print(dt_index.shape)"
   ]
  },
  {
   "cell_type": "markdown",
   "metadata": {
    "tags": []
   },
   "source": [
    "## Pandas Series: Dates as indices"
   ]
  },
  {
   "cell_type": "code",
   "execution_count": null,
   "metadata": {
    "tags": []
   },
   "outputs": [],
   "source": [
    "# Datetime index (repeated from previous cell)\n",
    "# recall: dt_index.shape is (10,)\n",
    "dt_index = pd.date_range('2015-1-1', '2015-11-1', freq='m')\n",
    "print(f\"dt_index shape: {dt_index.shape}\")\n",
    "\n",
    "# recall: np.random.seed(123)\n",
    "# note that the number of indices must match\n",
    "dt_series = pd.Series(randn(10), \n",
    "                      index = dt_index)\n",
    "print(dt_series)\n",
    "print(f\"\\ndt_series shape: {dt_series.shape}\")"
   ]
  },
  {
   "cell_type": "markdown",
   "metadata": {
    "tags": []
   },
   "source": [
    "# Pandas DataFrames\n",
    "\n",
    "- a collection of Pandas Series **that share the same index** "
   ]
  },
  {
   "cell_type": "code",
   "execution_count": null,
   "metadata": {
    "tags": []
   },
   "outputs": [],
   "source": [
    "# Creating a DataFrame from a two-dimensional list\n",
    "# Note nested lists are of the same length\n",
    "\n",
    "pd.DataFrame([[1, 2, 3], \n",
    "              [4, 5, 6]], \n",
    "             columns=['a', 'b', 'c'],\n",
    "             index=['foo', 'bar'])"
   ]
  },
  {
   "cell_type": "markdown",
   "metadata": {},
   "source": [
    "## Create a toy DataFrame"
   ]
  },
  {
   "cell_type": "code",
   "execution_count": null,
   "metadata": {
    "tags": []
   },
   "outputs": [],
   "source": [
    "# recall that we set our random seed earlier\n",
    "# np.random.seed(123)\n",
    "\n",
    "dt_index = pd.date_range(start='2015-1-1',\n",
    "                         end='2015-11-1',\n",
    "                         freq='m')\n",
    "\n",
    "toy_df1 = pd.DataFrame(randn(10, 5),\n",
    "                       index=dt_index,\n",
    "                       columns=[x for x in 'abcde'])\n",
    "toy_df1"
   ]
  },
  {
   "cell_type": "markdown",
   "metadata": {},
   "source": [
    "## Indexing in Pandas"
   ]
  },
  {
   "cell_type": "markdown",
   "metadata": {
    "tags": []
   },
   "source": [
    "### Selecting columns\n",
    "\n",
    "To select just one column, use brackets\n"
   ]
  },
  {
   "cell_type": "code",
   "execution_count": null,
   "metadata": {
    "tags": []
   },
   "outputs": [],
   "source": [
    "# the preferred method\n",
    "toy_df1['a']"
   ]
  },
  {
   "cell_type": "markdown",
   "metadata": {
    "tags": []
   },
   "source": [
    "You can also use the \"dot notation\" for selecting a column"
   ]
  },
  {
   "cell_type": "markdown",
   "metadata": {
    "tags": []
   },
   "source": [
    "**Note:** \n",
    "- Although you may see it in existing code, you may wish to avoid this style of notation.\n",
    "- This will fail if your column has the same name as a DataFrame method.\n",
    "- It's also good practice to avoid reserved keywords as headers when possible."
   ]
  },
  {
   "cell_type": "code",
   "execution_count": null,
   "metadata": {
    "tags": []
   },
   "outputs": [],
   "source": [
    "# an example where dot notation works\n",
    "toy_df1.a"
   ]
  },
  {
   "cell_type": "code",
   "execution_count": null,
   "metadata": {
    "tags": []
   },
   "outputs": [],
   "source": [
    "# restatement of dt_index from above\n",
    "dt_index = pd.date_range(start='2015-1-1',\n",
    "                         end='2015-11-1',\n",
    "                         freq='m')\n",
    "\n",
    "# made up column names ... no real purpose here\n",
    "cols = ['vals', 'amount', 'rank', 'random', 'terms']\n",
    "\n",
    "toy_df2 = pd.DataFrame(randn(10, 5),\n",
    "                       index=dt_index,\n",
    "                       columns=[x for x in cols])\n",
    "toy_df2.head(3)"
   ]
  },
  {
   "cell_type": "code",
   "execution_count": null,
   "metadata": {
    "tags": []
   },
   "outputs": [],
   "source": [
    "toy_df2['rank']"
   ]
  },
  {
   "cell_type": "markdown",
   "metadata": {},
   "source": [
    "Note: `pandas.DataFrame.rank` is a method\n",
    "- https://pandas.pydata.org/docs/reference/api/pandas.DataFrame.rank.html"
   ]
  },
  {
   "cell_type": "code",
   "execution_count": null,
   "metadata": {
    "tags": []
   },
   "outputs": [],
   "source": [
    "toy_df2.rank"
   ]
  },
  {
   "cell_type": "markdown",
   "metadata": {
    "tags": []
   },
   "source": [
    "### Selecting rows"
   ]
  },
  {
   "cell_type": "markdown",
   "metadata": {
    "jp-MarkdownHeadingCollapsed": true,
    "tags": []
   },
   "source": [
    "To select one row, use .loc[]"
   ]
  },
  {
   "cell_type": "code",
   "execution_count": null,
   "metadata": {
    "tags": []
   },
   "outputs": [],
   "source": [
    "# loc using index name\n",
    "toy_df1.loc['2015-10-31']"
   ]
  },
  {
   "cell_type": "code",
   "execution_count": null,
   "metadata": {},
   "outputs": [],
   "source": [
    "# index location\n",
    "toy_df1.iloc[9]"
   ]
  },
  {
   "cell_type": "markdown",
   "metadata": {},
   "source": [
    "A single value:"
   ]
  },
  {
   "cell_type": "code",
   "execution_count": null,
   "metadata": {},
   "outputs": [],
   "source": [
    "# Note that the value hasn't changed,\n",
    "# but the Jupyter display isn't as truncated for single values\n",
    "# These display settings can be adjusted\n",
    "toy_df1.loc['2015-10-31', 'a']"
   ]
  },
  {
   "cell_type": "markdown",
   "metadata": {},
   "source": [
    "## Each Column & Row is a series"
   ]
  },
  {
   "cell_type": "code",
   "execution_count": null,
   "metadata": {},
   "outputs": [],
   "source": [
    "# recall toy_df1\n",
    "toy_df1"
   ]
  },
  {
   "cell_type": "markdown",
   "metadata": {
    "tags": []
   },
   "source": [
    "### A row of a DataFrame is a series"
   ]
  },
  {
   "cell_type": "code",
   "execution_count": null,
   "metadata": {
    "tags": []
   },
   "outputs": [],
   "source": [
    "row = toy_df1.loc['2015-01-31']\n",
    "\n",
    "print(f\"row type: {type(row)}\\n\")\n",
    "\n",
    "row"
   ]
  },
  {
   "cell_type": "markdown",
   "metadata": {
    "tags": []
   },
   "source": [
    "### A column of a DataFrame is also a series"
   ]
  },
  {
   "cell_type": "code",
   "execution_count": null,
   "metadata": {
    "tags": []
   },
   "outputs": [],
   "source": [
    "col = toy_df1['d']\n",
    "\n",
    "print(f\"col type: {type(col)}\\n\")\n",
    "\n",
    "col"
   ]
  },
  {
   "cell_type": "markdown",
   "metadata": {
    "tags": []
   },
   "source": [
    "### Each column will share the same indices"
   ]
  },
  {
   "cell_type": "code",
   "execution_count": null,
   "metadata": {
    "tags": []
   },
   "outputs": [],
   "source": [
    "# two columns compared:\n",
    "# are all of the indices the same?\n",
    "\n",
    "np.all(col.index == toy_df1['a'].index)"
   ]
  },
  {
   "cell_type": "markdown",
   "metadata": {
    "tags": []
   },
   "source": [
    "### Each row will share the same indices"
   ]
  },
  {
   "cell_type": "code",
   "execution_count": null,
   "metadata": {
    "tags": []
   },
   "outputs": [],
   "source": [
    "# two rows compared:\n",
    "# are all of the indices the same?\n",
    "\n",
    "np.all(row.index == toy_df1.loc['2015-10-31'].index)"
   ]
  },
  {
   "cell_type": "markdown",
   "metadata": {},
   "source": [
    "## Column and row indices for the DataFrame as a whole"
   ]
  },
  {
   "cell_type": "code",
   "execution_count": null,
   "metadata": {
    "tags": []
   },
   "outputs": [],
   "source": [
    "# to find the row indices\n",
    "toy_df1.index"
   ]
  },
  {
   "cell_type": "code",
   "execution_count": null,
   "metadata": {
    "tags": []
   },
   "outputs": [],
   "source": [
    "# to find the column indices\n",
    "toy_df1.columns"
   ]
  },
  {
   "cell_type": "markdown",
   "metadata": {},
   "source": [
    "# More complex indexing"
   ]
  },
  {
   "cell_type": "code",
   "execution_count": null,
   "metadata": {},
   "outputs": [],
   "source": [
    "# recall toy_df1\n",
    "print(toy_df1.shape)\n",
    "\n",
    "toy_df1"
   ]
  },
  {
   "cell_type": "markdown",
   "metadata": {
    "tags": []
   },
   "source": [
    "## Selecting multiple, individual columns"
   ]
  },
  {
   "cell_type": "code",
   "execution_count": null,
   "metadata": {
    "tags": []
   },
   "outputs": [],
   "source": [
    "# note the double brackets\n",
    "# a list of column names is being passed\n",
    "toy_df1[['a','e']]"
   ]
  },
  {
   "cell_type": "markdown",
   "metadata": {},
   "source": [
    "## Selecting multiple, individual rows"
   ]
  },
  {
   "cell_type": "code",
   "execution_count": null,
   "metadata": {},
   "outputs": [],
   "source": [
    "# note the double brackets\n",
    "# a list of row names is being passed\n",
    "toy_df1.loc[['2015-01-31','2015-10-31']]"
   ]
  },
  {
   "cell_type": "markdown",
   "metadata": {
    "tags": []
   },
   "source": [
    "## Column operations\n",
    "Just like numpy, operations are broadcast to every element of a column"
   ]
  },
  {
   "cell_type": "code",
   "execution_count": null,
   "metadata": {
    "tags": []
   },
   "outputs": [],
   "source": [
    "# notice the result is returned as a Series\n",
    "toy_df1['a'] + toy_df1['b']"
   ]
  },
  {
   "cell_type": "markdown",
   "metadata": {
    "tags": []
   },
   "source": [
    "## Adding a new column\n",
    "It's just like setting by key in a dictionary"
   ]
  },
  {
   "cell_type": "code",
   "execution_count": null,
   "metadata": {
    "tags": []
   },
   "outputs": [],
   "source": [
    "toy_df1['f'] = abs(toy_df1['a'])**toy_df1['b']"
   ]
  },
  {
   "cell_type": "code",
   "execution_count": null,
   "metadata": {
    "tags": []
   },
   "outputs": [],
   "source": [
    "toy_df1"
   ]
  },
  {
   "cell_type": "markdown",
   "metadata": {
    "tags": []
   },
   "source": [
    "## Advanced selection\n"
   ]
  },
  {
   "cell_type": "markdown",
   "metadata": {
    "tags": []
   },
   "source": [
    "### .loc \n",
    "select by row label (index), and column label"
   ]
  },
  {
   "cell_type": "code",
   "execution_count": null,
   "metadata": {
    "tags": []
   },
   "outputs": [],
   "source": [
    "# Ranges by label.\n",
    "toy_df1.loc['2015-05-31':'2015-08-31', 'c':'e'] "
   ]
  },
  {
   "cell_type": "code",
   "execution_count": null,
   "metadata": {
    "tags": []
   },
   "outputs": [],
   "source": [
    "# Value Reassignment \n",
    "toy_df1.loc['2015-05-31':'2015-08-31', 'c':'e'] = 2.7"
   ]
  },
  {
   "cell_type": "code",
   "execution_count": null,
   "metadata": {
    "tags": []
   },
   "outputs": [],
   "source": [
    "toy_df1"
   ]
  },
  {
   "cell_type": "markdown",
   "metadata": {
    "tags": []
   },
   "source": [
    "### .iloc\n",
    "select by __positional__ index"
   ]
  },
  {
   "cell_type": "code",
   "execution_count": null,
   "metadata": {
    "tags": []
   },
   "outputs": [],
   "source": [
    "# ranges by number: [row, column]\n",
    "# Notice that the range is *not* inclusive\n",
    "toy_df1.iloc[2:4, 2:5]"
   ]
  },
  {
   "cell_type": "markdown",
   "metadata": {
    "tags": []
   },
   "source": [
    "\n",
    "      \n",
    "# Multiple Indices"
   ]
  },
  {
   "cell_type": "markdown",
   "metadata": {},
   "source": [
    "Start with a df with a single date index"
   ]
  },
  {
   "cell_type": "code",
   "execution_count": null,
   "metadata": {},
   "outputs": [],
   "source": [
    "# recall: np.random.seed(123)\n",
    "\n",
    "# generate index of 30 months\n",
    "dt_index = pd.date_range(start='2015-1-1',\n",
    "                         end='2017-7-1',\n",
    "                         freq='m')\n",
    "\n",
    "dt_df = pd.DataFrame(randn(30,5),\n",
    "                     index=dt_index,\n",
    "                     columns=[x for x in \"abcde\"])\n",
    "\n",
    "dt_df"
   ]
  },
  {
   "cell_type": "markdown",
   "metadata": {},
   "source": [
    "Let's add new column of states"
   ]
  },
  {
   "cell_type": "code",
   "execution_count": null,
   "metadata": {},
   "outputs": [],
   "source": [
    "dt_df['state'] = ['Alabama', 'Alaska' , 'Arizona'] * 10\n",
    "dt_df.head()"
   ]
  },
  {
   "cell_type": "markdown",
   "metadata": {},
   "source": [
    "`reset_index` shifts the index to a column, then gives the rows a boring old positional index\n",
    "\n",
    "Note that `dt_df.reset_index(inplace=True)` is equivalent to `dt_df = dt_df.reset_index()`"
   ]
  },
  {
   "cell_type": "code",
   "execution_count": null,
   "metadata": {},
   "outputs": [],
   "source": [
    "# changes dt_df inplace\n",
    "dt_df.reset_index(inplace=True)"
   ]
  },
  {
   "cell_type": "code",
   "execution_count": null,
   "metadata": {},
   "outputs": [],
   "source": [
    "dt_df"
   ]
  },
  {
   "cell_type": "markdown",
   "metadata": {},
   "source": [
    "`set_index` sets columns to indices"
   ]
  },
  {
   "cell_type": "code",
   "execution_count": null,
   "metadata": {},
   "outputs": [],
   "source": [
    "dt_df = dt_df.set_index(['state', 'index'])\n",
    "dt_df.head()"
   ]
  },
  {
   "cell_type": "code",
   "execution_count": null,
   "metadata": {},
   "outputs": [],
   "source": [
    "dt_df.loc['Alabama']"
   ]
  },
  {
   "cell_type": "code",
   "execution_count": null,
   "metadata": {},
   "outputs": [],
   "source": [
    "# This one doesn't work\n",
    "# dt_df.loc['2015-01-31']"
   ]
  },
  {
   "cell_type": "code",
   "execution_count": null,
   "metadata": {},
   "outputs": [],
   "source": [
    "# Can do this. (use both first and second index)\n",
    "dt_df.loc[('Alabama', '2015-01-31')] "
   ]
  },
  {
   "cell_type": "markdown",
   "metadata": {
    "tags": []
   },
   "source": [
    "# Loading data from a local file"
   ]
  },
  {
   "cell_type": "code",
   "execution_count": null,
   "metadata": {},
   "outputs": [],
   "source": [
    "# pd.read_csv?"
   ]
  },
  {
   "cell_type": "code",
   "execution_count": null,
   "metadata": {
    "tags": []
   },
   "outputs": [],
   "source": [
    "golf_df = pd.read_csv('data/playgolf.csv',\n",
    "                      delimiter=',')\n",
    "\n",
    "golf_df.head()"
   ]
  },
  {
   "cell_type": "code",
   "execution_count": null,
   "metadata": {
    "tags": []
   },
   "outputs": [],
   "source": [
    "white_wine_df = pd.read_csv('data/winequality-white.csv',\n",
    "                            delimiter=';')\n",
    "\n",
    "print(white_wine_df.shape, \"\\n\")\n",
    "\n",
    "white_wine_df.head()"
   ]
  },
  {
   "cell_type": "code",
   "execution_count": null,
   "metadata": {
    "tags": []
   },
   "outputs": [],
   "source": [
    "red_wine_df = pd.read_csv('data/winequality-red.csv',\n",
    "                          delimiter=';')\n",
    "red_wine_df.head()"
   ]
  },
  {
   "cell_type": "markdown",
   "metadata": {
    "jupyter": {
     "source_hidden": true
    },
    "tags": []
   },
   "source": [
    "# Basic DataFrame EDA summaries"
   ]
  },
  {
   "cell_type": "code",
   "execution_count": null,
   "metadata": {
    "jupyter": {
     "source_hidden": true
    },
    "tags": []
   },
   "outputs": [],
   "source": [
    "# shape of the DataFrame\n",
    "red_wine_df.shape"
   ]
  },
  {
   "cell_type": "code",
   "execution_count": null,
   "metadata": {
    "jupyter": {
     "source_hidden": true
    },
    "tags": []
   },
   "outputs": [],
   "source": [
    "# column indices\n",
    "red_wine_df.columns"
   ]
  },
  {
   "cell_type": "code",
   "execution_count": null,
   "metadata": {
    "jupyter": {
     "source_hidden": true
    },
    "tags": []
   },
   "outputs": [],
   "source": [
    "# row indices\n",
    "# this result indicates a default numeric range index\n",
    "red_wine_df.index"
   ]
  },
  {
   "cell_type": "code",
   "execution_count": null,
   "metadata": {
    "jupyter": {
     "source_hidden": true
    },
    "tags": []
   },
   "outputs": [],
   "source": [
    "# Display the first n rows (default is 5)\n",
    "red_wine_df.head()  "
   ]
  },
  {
   "cell_type": "code",
   "execution_count": null,
   "metadata": {
    "jupyter": {
     "source_hidden": true
    },
    "tags": []
   },
   "outputs": [],
   "source": [
    "# Display the final n rows (default is 5)\n",
    "red_wine_df.tail()"
   ]
  },
  {
   "cell_type": "code",
   "execution_count": null,
   "metadata": {
    "jupyter": {
     "source_hidden": true
    },
    "tags": []
   },
   "outputs": [],
   "source": [
    "# pull sample of rows: default is one row\n",
    "red_wine_df.sample(5)\n",
    "\n",
    "# question for later: with replacement?"
   ]
  },
  {
   "cell_type": "code",
   "execution_count": null,
   "metadata": {
    "jupyter": {
     "source_hidden": true
    },
    "scrolled": true,
    "tags": []
   },
   "outputs": [],
   "source": [
    "# info is incredibly useful for discovering null values\n",
    "# and for gaining clues as to how they may be stored\n",
    "\n",
    "# this particular df seems to have all values present\n",
    "red_wine_df.info()"
   ]
  },
  {
   "cell_type": "code",
   "execution_count": null,
   "metadata": {
    "jupyter": {
     "source_hidden": true
    },
    "tags": []
   },
   "outputs": [],
   "source": [
    "# describe provides very basic statistical information\n",
    "red_wine_df.describe()"
   ]
  },
  {
   "cell_type": "markdown",
   "metadata": {
    "tags": []
   },
   "source": [
    "# Filtering with conditionals\n",
    "\n",
    "Also referred to: \n",
    "- row selecting\n",
    "- Boolean indexing\n",
    "- Boolean masking"
   ]
  },
  {
   "cell_type": "markdown",
   "metadata": {
    "tags": []
   },
   "source": [
    "## Boolean masks\n",
    "- Creating a Boolean mask\n",
    "- Indexing with a Boolean mask"
   ]
  },
  {
   "cell_type": "code",
   "execution_count": null,
   "metadata": {
    "jupyter": {
     "source_hidden": true
    },
    "tags": []
   },
   "outputs": [],
   "source": [
    "# consider the values in the 'chlorides' column\n",
    "red_wine_df['chlorides']"
   ]
  },
  {
   "cell_type": "code",
   "execution_count": null,
   "metadata": {
    "jupyter": {
     "source_hidden": true
    },
    "tags": []
   },
   "outputs": [],
   "source": [
    "# Which rows are at 0.08 or less?\n",
    "red_wine_df['chlorides'] <= 0.08"
   ]
  },
  {
   "cell_type": "code",
   "execution_count": null,
   "metadata": {
    "jupyter": {
     "source_hidden": true
    },
    "tags": []
   },
   "outputs": [],
   "source": [
    "# Save those results\n",
    "mask = red_wine_df['chlorides'] <= 0.08 \n",
    "\n",
    "# This mask is stored as a Series of booleans\n",
    "print(type(mask),\"\\n\")\n",
    "\n",
    "mask.head()"
   ]
  },
  {
   "cell_type": "markdown",
   "metadata": {
    "tags": []
   },
   "source": [
    "You can use a boolean series to \"mask\" a DataFrame / series, returning only those rows where the mask is `True`"
   ]
  },
  {
   "cell_type": "code",
   "execution_count": null,
   "metadata": {
    "jupyter": {
     "source_hidden": true
    },
    "tags": []
   },
   "outputs": [],
   "source": [
    "# notice the indices and the 'chlorides' values\n",
    "red_wine_df[mask].head()"
   ]
  },
  {
   "cell_type": "markdown",
   "metadata": {
    "tags": []
   },
   "source": [
    "In Pandas, the tilde `~` character (next to the number 1) negates booleans (switching `true` and `false`) and is useful when you need the complement. \n",
    "\n",
    "In this case, rows for which the masked values are `false` are returned."
   ]
  },
  {
   "cell_type": "code",
   "execution_count": null,
   "metadata": {
    "jupyter": {
     "source_hidden": true
    },
    "tags": []
   },
   "outputs": [],
   "source": [
    "# using the tilde to get the compliment\n",
    "# again, notice the indices and the 'chlorides' values\n",
    "red_wine_df[~mask].head()"
   ]
  },
  {
   "cell_type": "markdown",
   "metadata": {
    "tags": []
   },
   "source": [
    "## Combining conditionals"
   ]
  },
  {
   "cell_type": "code",
   "execution_count": null,
   "metadata": {
    "jupyter": {
     "source_hidden": true
    },
    "tags": []
   },
   "outputs": [],
   "source": [
    "# using | for OR\n",
    "\n",
    "# results under a very low value, or over a very high value\n",
    "red_wine_df[(red_wine_df['chlorides'] < 0.02) | (red_wine_df['chlorides'] > 0.6)]"
   ]
  },
  {
   "cell_type": "code",
   "execution_count": null,
   "metadata": {
    "jupyter": {
     "source_hidden": true
    },
    "tags": []
   },
   "outputs": [],
   "source": [
    "# using & for AND\n",
    "\n",
    "# results between 0.04 and 0.08 (exclusive)\n",
    "red_wine_df[(red_wine_df['chlorides'] > 0.04) & (red_wine_df['chlorides'] < 0.08)]"
   ]
  },
  {
   "cell_type": "code",
   "execution_count": null,
   "metadata": {},
   "outputs": [],
   "source": [
    "# note:\n",
    "# - backslash for line continuation\n",
    "# - the column indexing\n",
    "red_wine_df2 = red_wine_df[(red_wine_df['chlorides'] >= 0.04) & \\\n",
    "                           (red_wine_df['chlorides'] < 0.08)][['pH','fixed acidity']]\n",
    "\n",
    "# note the reduction to two columns\n",
    "red_wine_df2.shape"
   ]
  },
  {
   "cell_type": "code",
   "execution_count": null,
   "metadata": {},
   "outputs": [],
   "source": [
    "red_wine_df2.head()"
   ]
  },
  {
   "cell_type": "markdown",
   "metadata": {},
   "source": [
    "### Reset Index\n",
    "\n",
    "Note that resetting the index defaults to keeping the original index values and places them in a new 'index' column"
   ]
  },
  {
   "cell_type": "code",
   "execution_count": null,
   "metadata": {},
   "outputs": [],
   "source": [
    "# sort records ascending by `pH` and reset the index\n",
    "red_wine_df2.sort_values('pH').reset_index().head()"
   ]
  },
  {
   "cell_type": "markdown",
   "metadata": {},
   "source": [
    "The `reset_index` method offers several parameters, including `drop` and `inplace`.\n",
    "- `drop` removes the previous index.\n",
    "- `inplace` changes the original Series instead of returning a new one."
   ]
  },
  {
   "cell_type": "code",
   "execution_count": null,
   "metadata": {},
   "outputs": [],
   "source": [
    "# pd.Series.reset_index?"
   ]
  },
  {
   "cell_type": "code",
   "execution_count": null,
   "metadata": {},
   "outputs": [],
   "source": [
    "# sort records ascending by `pH` and reset the index (dropping the original)\n",
    "red_wine_df2.sort_values('pH').reset_index(drop=True).head()"
   ]
  },
  {
   "cell_type": "markdown",
   "metadata": {},
   "source": [
    "Note that `red_wine_df2` hasn't changed as none of the operations were executed `inplace` and the values were not stored."
   ]
  },
  {
   "cell_type": "code",
   "execution_count": null,
   "metadata": {},
   "outputs": [],
   "source": [
    "red_wine_df2.head()"
   ]
  },
  {
   "cell_type": "markdown",
   "metadata": {},
   "source": [
    "# Groupby"
   ]
  },
  {
   "cell_type": "code",
   "execution_count": null,
   "metadata": {},
   "outputs": [],
   "source": [
    "red_wine_df.head()"
   ]
  },
  {
   "cell_type": "code",
   "execution_count": null,
   "metadata": {},
   "outputs": [],
   "source": [
    "# Note that this returns back to us a groupby object.\n",
    "# It doesn't actually return anything useful\n",
    "# until you perform some aggregation on it.\n",
    "\n",
    "rw_gb_quality = red_wine_df.groupby('quality')\n",
    "\n",
    "rw_gb_quality"
   ]
  },
  {
   "cell_type": "code",
   "execution_count": null,
   "metadata": {},
   "outputs": [],
   "source": [
    "rw_gb_quality.max()"
   ]
  },
  {
   "cell_type": "code",
   "execution_count": null,
   "metadata": {},
   "outputs": [],
   "source": [
    "rw_gb_quality.max()['density']"
   ]
  },
  {
   "cell_type": "code",
   "execution_count": null,
   "metadata": {},
   "outputs": [],
   "source": [
    "# Note we can also group by multiple columns by passing them in in a list. It will group by \n",
    "# the first column passed in first, and then the second after that (i.e., it will group by \n",
    "# the second within the group by of the first). \n",
    "red_wine_df3 = red_wine_df.groupby(['pH', 'quality']).count()\n",
    "\n",
    "red_wine_df3.head(20)"
   ]
  },
  {
   "cell_type": "markdown",
   "metadata": {},
   "source": [
    "# Remove columns"
   ]
  },
  {
   "cell_type": "code",
   "execution_count": null,
   "metadata": {},
   "outputs": [],
   "source": [
    "# add a computed column name it something new\n",
    "\n",
    "red_wine_df['free sulfur dioxide'] / red_wine_df['total sulfur dioxide']"
   ]
  },
  {
   "cell_type": "code",
   "execution_count": null,
   "metadata": {},
   "outputs": [],
   "source": [
    "red_wine_df['pct_free_sulf'] = red_wine_df['free sulfur dioxide'] / red_wine_df['total sulfur dioxide']"
   ]
  },
  {
   "cell_type": "code",
   "execution_count": null,
   "metadata": {},
   "outputs": [],
   "source": [
    "red_wine_df.head()"
   ]
  },
  {
   "cell_type": "code",
   "execution_count": null,
   "metadata": {},
   "outputs": [],
   "source": [
    "# Dropping a row\n",
    "red_wine_df.drop(0,\n",
    "                 axis=0,\n",
    "                 inplace=False)"
   ]
  },
  {
   "cell_type": "code",
   "execution_count": null,
   "metadata": {},
   "outputs": [],
   "source": [
    "# This will fail as it needs an axis entry\n",
    "# red_wine_df.drop('pct_free_sulf')"
   ]
  },
  {
   "cell_type": "code",
   "execution_count": null,
   "metadata": {},
   "outputs": [],
   "source": [
    "red_wine_df.drop('pct_free_sulf',\n",
    "                 axis=1).head()"
   ]
  },
  {
   "cell_type": "code",
   "execution_count": null,
   "metadata": {},
   "outputs": [],
   "source": [
    "red_wine_df.columns"
   ]
  },
  {
   "cell_type": "markdown",
   "metadata": {},
   "source": [
    "# Managing Missing Values\n",
    "* http://pandas.pydata.org/pandas-docs/stable/missing_data.html"
   ]
  },
  {
   "cell_type": "code",
   "execution_count": null,
   "metadata": {},
   "outputs": [],
   "source": [
    "miss_val_df = pd.DataFrame(\n",
    "    [[1, 2, 3], [4, np.nan, 6]],\n",
    "    columns=['a', 'b', 'c'],\n",
    "    index=['foo', 'bar'])\n",
    "miss_val_df"
   ]
  },
  {
   "cell_type": "code",
   "execution_count": null,
   "metadata": {},
   "outputs": [],
   "source": [
    "miss_val_df.fillna(0)"
   ]
  },
  {
   "cell_type": "code",
   "execution_count": null,
   "metadata": {},
   "outputs": [],
   "source": [
    "miss_val_df"
   ]
  },
  {
   "cell_type": "code",
   "execution_count": null,
   "metadata": {},
   "outputs": [],
   "source": [
    "# IF YOU WANT THE CHANGE TO HAPPEN INPLACE YOU MUST SPECIFY:\n",
    "miss_val_df.fillna(0,inplace=True)\n",
    "miss_val_df"
   ]
  },
  {
   "cell_type": "code",
   "execution_count": null,
   "metadata": {},
   "outputs": [],
   "source": [
    "miss_val_df['b']['foo'] = np.nan"
   ]
  },
  {
   "cell_type": "code",
   "execution_count": null,
   "metadata": {},
   "outputs": [],
   "source": [
    "miss_val_df"
   ]
  },
  {
   "cell_type": "code",
   "execution_count": null,
   "metadata": {},
   "outputs": [],
   "source": [
    "miss_val_df.dropna(axis = 1)"
   ]
  },
  {
   "cell_type": "code",
   "execution_count": null,
   "metadata": {},
   "outputs": [],
   "source": [
    "miss_val_df.dropna(axis = 0)"
   ]
  },
  {
   "attachments": {
    "5a6c6b61-7167-4f94-8458-e0af66863d90.png": {
     "image/png": "[encoded data removed]"
    }
   },
   "cell_type": "markdown",
   "metadata": {},
   "source": [
    "# Merge \n",
    "* http://pandas.pydata.org/pandas-docs/stable/merging.html\n",
    "\n",
    "We can join DataFrames in a similar way that we join tables to SQL.  In fact, left, right, outer, and inner joins work the same way here.\n",
    "\n",
    "\n",
    "\n",
    "![image.png](attachment:5a6c6b61-7167-4f94-8458-e0af66863d90.png)"
   ]
  },
  {
   "cell_type": "code",
   "execution_count": null,
   "metadata": {},
   "outputs": [],
   "source": [
    "merge1 = pd.DataFrame(\n",
    "    [[1, 2, 3], [4, 3, 6]], \n",
    "    columns=['a', 'b', 'c'])\n",
    "\n",
    "merge2 = pd.DataFrame(\n",
    "    [[1, 2, 3], [4, 3, 6]], \n",
    "    columns=['z', 'b', 'y'])\n",
    "\n",
    "print(\"merge1 = \\n{}\\n\\nmerge2=\\n{}\\n\".format(merge1, merge2))"
   ]
  },
  {
   "cell_type": "code",
   "execution_count": null,
   "metadata": {},
   "outputs": [],
   "source": [
    "merged_df = merge1.merge(merge2, how='outer')"
   ]
  },
  {
   "cell_type": "code",
   "execution_count": null,
   "metadata": {},
   "outputs": [],
   "source": [
    "merged_df"
   ]
  },
  {
   "cell_type": "markdown",
   "metadata": {},
   "source": [
    "# Concatenating\n",
    "* adding *rows*\n",
    "* see also: df.append()"
   ]
  },
  {
   "cell_type": "code",
   "execution_count": null,
   "metadata": {},
   "outputs": [],
   "source": [
    "df1 = pd.DataFrame(\n",
    "    {'Col1': range(5), 'Col2': range(5), 'Col3': range(5)})\n",
    "df2 = pd.DataFrame(\n",
    "    {'Col1': range(5), 'Col2': range(5), 'Col4': range(5)},\n",
    "    index=range(5, 10))"
   ]
  },
  {
   "cell_type": "code",
   "execution_count": null,
   "metadata": {},
   "outputs": [],
   "source": [
    "df1"
   ]
  },
  {
   "cell_type": "code",
   "execution_count": null,
   "metadata": {},
   "outputs": [],
   "source": [
    "df2"
   ]
  },
  {
   "cell_type": "code",
   "execution_count": null,
   "metadata": {},
   "outputs": [],
   "source": [
    "#Vertically\n",
    "pd.concat([df1, df2], axis=0, sort=False)"
   ]
  },
  {
   "cell_type": "code",
   "execution_count": null,
   "metadata": {},
   "outputs": [],
   "source": [
    "pd.concat([df1, df2], join='outer', axis=1)"
   ]
  },
  {
   "cell_type": "markdown",
   "metadata": {},
   "source": [
    "# Categorical data"
   ]
  },
  {
   "cell_type": "code",
   "execution_count": null,
   "metadata": {},
   "outputs": [],
   "source": [
    "golf_df = pd.read_csv('data/playgolf.csv', delimiter=',' )\n",
    "golf_df.head()"
   ]
  },
  {
   "cell_type": "markdown",
   "metadata": {},
   "source": [
    "df.value_counts() gets you the frequencies"
   ]
  },
  {
   "cell_type": "code",
   "execution_count": null,
   "metadata": {},
   "outputs": [],
   "source": [
    "golf_df['Outlook'].value_counts()"
   ]
  },
  {
   "cell_type": "markdown",
   "metadata": {},
   "source": [
    "Using apply will get you the value counts for multiple columns at once"
   ]
  },
  {
   "cell_type": "code",
   "execution_count": null,
   "metadata": {},
   "outputs": [],
   "source": [
    "golf_df[['Outlook','Result']].head(2)"
   ]
  },
  {
   "cell_type": "code",
   "execution_count": null,
   "metadata": {},
   "outputs": [],
   "source": [
    "golf_df[['Outlook','Result']].apply(lambda x: x.value_counts())"
   ]
  },
  {
   "cell_type": "markdown",
   "metadata": {},
   "source": [
    "Contingency Tables for looking at bivariate relationships between two categorical variables"
   ]
  },
  {
   "cell_type": "code",
   "execution_count": null,
   "metadata": {},
   "outputs": [],
   "source": [
    "pd.crosstab(golf_df['Outlook'], golf_df['Result'])"
   ]
  },
  {
   "cell_type": "markdown",
   "metadata": {},
   "source": [
    "Often we want the row percentages"
   ]
  },
  {
   "cell_type": "code",
   "execution_count": null,
   "metadata": {},
   "outputs": [],
   "source": [
    "pd.crosstab(golf_df['Outlook'], golf_df['Result']).apply(lambda r: r/r.sum(), axis=1)"
   ]
  },
  {
   "cell_type": "markdown",
   "metadata": {},
   "source": [
    "Or the column percentages"
   ]
  },
  {
   "cell_type": "code",
   "execution_count": null,
   "metadata": {},
   "outputs": [],
   "source": [
    "pd.crosstab(golf_df['Outlook'],\n",
    "            golf_df['Result']).apply(lambda c: c/c.sum(), axis=0)"
   ]
  },
  {
   "cell_type": "markdown",
   "metadata": {},
   "source": [
    "# Plotting DataFrames"
   ]
  },
  {
   "cell_type": "code",
   "execution_count": null,
   "metadata": {},
   "outputs": [],
   "source": [
    "# reset golf to default import\n",
    "golf_df = pd.read_csv('data/playgolf.csv',\n",
    "                 delimiter=',' )\n",
    "golf_df.head()"
   ]
  },
  {
   "cell_type": "code",
   "execution_count": null,
   "metadata": {},
   "outputs": [],
   "source": [
    "golf_df.hist(['Temperature','Humidity'],bins=5);"
   ]
  },
  {
   "cell_type": "code",
   "execution_count": null,
   "metadata": {},
   "outputs": [],
   "source": [
    "golf_df[['Temperature','Humidity']].plot(kind='box');"
   ]
  },
  {
   "cell_type": "code",
   "execution_count": null,
   "metadata": {},
   "outputs": [],
   "source": [
    "golf_df.plot('Temperature', 'Humidity', kind='scatter');"
   ]
  },
  {
   "cell_type": "code",
   "execution_count": null,
   "metadata": {},
   "outputs": [],
   "source": [
    "groups=golf_df.groupby('Outlook')\n",
    "print(groups)\n",
    "for stuff in groups:\n",
    "    print(stuff)"
   ]
  },
  {
   "cell_type": "code",
   "execution_count": null,
   "metadata": {},
   "outputs": [],
   "source": [
    "for name, group in groups:\n",
    "    print(type(group))"
   ]
  },
  {
   "cell_type": "code",
   "execution_count": null,
   "metadata": {},
   "outputs": [],
   "source": [
    "for name, group in groups:\n",
    "    print(name)"
   ]
  },
  {
   "cell_type": "code",
   "execution_count": null,
   "metadata": {},
   "outputs": [],
   "source": [
    "fig, ax = plt.subplots(figsize = (8,6))\n",
    "\n",
    "ax.margins(0.05)\n",
    "for name, group in groups:\n",
    "    ax.plot(group.Temperature, group.Humidity,\\\n",
    "            marker='o', linestyle='', ms=12, label=name)\n",
    "ax.legend(numpoints=1, loc='lower right')\n",
    "\n",
    "plt.show()"
   ]
  },
  {
   "cell_type": "code",
   "execution_count": null,
   "metadata": {},
   "outputs": [],
   "source": [
    "golf_df.head()"
   ]
  },
  {
   "cell_type": "code",
   "execution_count": null,
   "metadata": {},
   "outputs": [],
   "source": [
    "golf_df['Outlook'].value_counts()"
   ]
  },
  {
   "cell_type": "code",
   "execution_count": null,
   "metadata": {},
   "outputs": [],
   "source": [
    "golf_df['Windy'].value_counts()"
   ]
  },
  {
   "cell_type": "code",
   "execution_count": null,
   "metadata": {},
   "outputs": [],
   "source": [
    "g = golf_df.groupby(['Outlook', 'Windy'])"
   ]
  },
  {
   "cell_type": "code",
   "execution_count": null,
   "metadata": {},
   "outputs": [],
   "source": [
    "g.max()"
   ]
  },
  {
   "cell_type": "code",
   "execution_count": null,
   "metadata": {},
   "outputs": [],
   "source": [
    "g.agg(max) \n"
   ]
  },
  {
   "cell_type": "code",
   "execution_count": null,
   "metadata": {},
   "outputs": [],
   "source": [
    "golf_df_th = g.agg(max)[['Temperature','Humidity']]\n",
    "golf_df_th"
   ]
  },
  {
   "cell_type": "code",
   "execution_count": null,
   "metadata": {},
   "outputs": [],
   "source": [
    "golf_df_th.unstack()"
   ]
  },
  {
   "cell_type": "code",
   "execution_count": null,
   "metadata": {},
   "outputs": [],
   "source": [
    "golf_df_th.unstack()['Temperature']"
   ]
  },
  {
   "cell_type": "code",
   "execution_count": null,
   "metadata": {},
   "outputs": [],
   "source": [
    "golf_df_th.reset_index()"
   ]
  },
  {
   "cell_type": "code",
   "execution_count": null,
   "metadata": {},
   "outputs": [],
   "source": [
    "golf_df"
   ]
  },
  {
   "cell_type": "code",
   "execution_count": null,
   "metadata": {},
   "outputs": [],
   "source": []
  },
  {
   "cell_type": "code",
   "execution_count": null,
   "metadata": {},
   "outputs": [],
   "source": []
  },
  {
   "cell_type": "markdown",
   "metadata": {},
   "source": [
    "# Pandas is built on Numpy\n",
    "\n",
    "## Numpy Review\n",
    "\n",
    "* Numpy is one of the fundamental packages for scientific computing in Python.\n",
    "\n",
    "\n",
    "## Numpy Arrays\n",
    "* Or NdArrays (n-dimensional array)\n",
    "* They are like lists in Python however they allow faster computation\n",
    "    1. They are stored as one contiguous block of memory, rather than being spread out across multiple locations like a list. \n",
    "    2. Each item in a numpy array is of the same data type (i.e. all integers, all floats, etc.), rather than a conglomerate of any number of data types (as a list is). We call this idea homogeneity, as opposed to the possible heterogeneity of Python lists.\n",
    "\n",
    "\n",
    "Lets do a quick review\n"
   ]
  },
  {
   "cell_type": "code",
   "execution_count": null,
   "metadata": {
    "code_folding": []
   },
   "outputs": [],
   "source": [
    "# Create a 1 dimensional numpy array with values 1 through 20\n"
   ]
  },
  {
   "cell_type": "code",
   "execution_count": null,
   "metadata": {},
   "outputs": [],
   "source": [
    "# Extract all odd numbers from array above\n"
   ]
  },
  {
   "cell_type": "code",
   "execution_count": null,
   "metadata": {},
   "outputs": [],
   "source": [
    "# Replace all odd numbers in array above\n",
    "# with value \"-1\" and save this to a new array variable\n",
    "# without replacing any values in the original array\n"
   ]
  },
  {
   "cell_type": "code",
   "execution_count": null,
   "metadata": {},
   "outputs": [],
   "source": [
    "# Convert a 1D array to a 2D array with 2 rows (you can use array above or a new array)\n"
   ]
  },
  {
   "cell_type": "code",
   "execution_count": null,
   "metadata": {},
   "outputs": [],
   "source": [
    "#Get all of the items between 5 and 10 from the array below\n",
    "\n",
    "a = np.array([2,6,1,9,10,3,27])\n"
   ]
  },
  {
   "cell_type": "code",
   "execution_count": null,
   "metadata": {},
   "outputs": [],
   "source": [
    "#Reverse the columns of the 2D array shown below\n",
    "\n",
    "b = np.arange(9).reshape(3,3)\n"
   ]
  },
  {
   "cell_type": "code",
   "execution_count": null,
   "metadata": {},
   "outputs": [],
   "source": [
    "#create a 2D array of shape 5x3 to contain random decimal values between 5 and 10\n"
   ]
  },
  {
   "cell_type": "markdown",
   "metadata": {
    "tags": []
   },
   "source": [
    "## Series methods"
   ]
  },
  {
   "cell_type": "code",
   "execution_count": null,
   "metadata": {
    "tags": []
   },
   "outputs": [],
   "source": [
    "round(dt_series.mean(), 2)"
   ]
  },
  {
   "cell_type": "markdown",
   "metadata": {},
   "source": [
    "# Other Notes"
   ]
  },
  {
   "cell_type": "code",
   "execution_count": null,
   "metadata": {},
   "outputs": [],
   "source": [
    "a_gt0_filter = (toy_df1['a'] > 0)\n",
    "\n",
    "# These two work identically\n",
    "toy_df1[a_gt0_filter]\n",
    "toy_df1.loc[a_gt0_filter]\n",
    "\n",
    "# This fails:\n",
    "# toy_df1[a_gt0_filter, \"b\"]\n",
    "\n",
    "# This works\n",
    "toy_df1.loc[a_gt0_filter, \"b\"]\n",
    "\n",
    "# This also works\n",
    "toy_df1.loc[a_gt0_filter, \"b\":\"d\"]"
   ]
  },
  {
   "cell_type": "code",
   "execution_count": null,
   "metadata": {},
   "outputs": [],
   "source": []
  }
 ],
 "metadata": {
  "jupytext": {
   "formats": "ipynb,py:light"
  },
  "kernelspec": {
   "display_name": "Python 3.8.13 ('base')",
   "language": "python",
   "name": "python3"
  },
  "language_info": {
   "codemirror_mode": {
    "name": "ipython",
    "version": 3
   },
   "file_extension": ".py",
   "mimetype": "text/x-python",
   "name": "python",
   "nbconvert_exporter": "python",
   "pygments_lexer": "ipython3",
   "version": "3.8.13"
  },
  "toc": {
   "base_numbering": 1,
   "nav_menu": {},
   "number_sections": true,
   "sideBar": true,
   "skip_h1_title": false,
   "title_cell": "Table of Contents",
   "title_sidebar": "Contents",
   "toc_cell": false,
   "toc_position": {},
   "toc_section_display": true,
   "toc_window_display": true
  },
  "vscode": {
   "interpreter": {
    "hash": "40d3a090f54c6569ab1632332b64b2c03c39dcf918b08424e98f38b5ae0af88f"
   }
  }
 },
 "nbformat": 4,
 "nbformat_minor": 4
}
