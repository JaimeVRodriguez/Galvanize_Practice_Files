{
 "cells": [
  {
   "cell_type": "code",
   "execution_count": null,
   "metadata": {},
   "outputs": [],
   "source": [
    "# import numpy\n",
    "import numpy as np"
   ]
  },
  {
   "cell_type": "code",
   "execution_count": null,
   "metadata": {},
   "outputs": [],
   "source": [
    "# create numpy arrays\n",
    "my_lst_ndarray = np.array([1, 2, 3, 4, 5])\n",
    "my_tuple_ndarray = np.array((1, 2, 3, 4, 5), np.int32)"
   ]
  },
  {
   "cell_type": "code",
   "execution_count": null,
   "metadata": {},
   "outputs": [],
   "source": [
    "# see shape and type of the created array\n",
    "\n",
    "print(my_lst_ndarray.shape)\n",
    "print(my_tuple_ndarray.shape)\n",
    "\n",
    "\n",
    "print(my_lst_ndarray.dtype)\n",
    "print(my_tuple_ndarray.dtype)\n",
    "\n"
   ]
  },
  {
   "cell_type": "code",
   "execution_count": null,
   "metadata": {},
   "outputs": [],
   "source": [
    "# Creates a matrix of zeros with 3 rows and 4 columns\n",
    "# Passes as a tuple\n",
    "zeros_arr = np.zeros((3,4))\n",
    "print(zeros_arr)"
   ]
  },
  {
   "cell_type": "code",
   "execution_count": null,
   "metadata": {},
   "outputs": [],
   "source": [
    "# matrix of ones\n",
    "ones_arr = np.ones((10,20))\n",
    "print(ones_arr)"
   ]
  },
  {
   "cell_type": "code",
   "execution_count": null,
   "metadata": {},
   "outputs": [],
   "source": [
    "# Identity Matrix\n",
    "identity_arr = np.identity(50)\n",
    "print(identity_arr)"
   ]
  },
  {
   "cell_type": "code",
   "execution_count": null,
   "metadata": {},
   "outputs": [],
   "source": [
    "# Create a numpy array with arguments (start, end, step_size).\n",
    "range_arr = np.arange(0, 20, 2)\n",
    "print()\n",
    "print(range_arr)\n",
    "\n",
    "# Create a 2x2 array of random floats ranging from 0 to 1.\n",
    "random_arr = np.random.rand(2, 2)\n",
    "print()\n",
    "print(random_arr)\n",
    "\n",
    "# an array of evenly space numbers\n",
    "# over the interval 1, 10 inclusive.\n",
    "linspace_arr = np.linspace(1, 10, num=19)\n",
    "print()\n",
    "print(linspace_arr)"
   ]
  }
 ],
 "metadata": {
  "kernelspec": {
   "display_name": "Python 3.9.13 ('base')",
   "language": "python",
   "name": "python3"
  },
  "language_info": {
   "codemirror_mode": {
    "name": "ipython",
    "version": 3
   },
   "file_extension": ".py",
   "mimetype": "text/x-python",
   "name": "python",
   "nbconvert_exporter": "python",
   "pygments_lexer": "ipython3",
   "version": "3.9.13"
  },
  "orig_nbformat": 4,
  "vscode": {
   "interpreter": {
    "hash": "40d3a090f54c6569ab1632332b64b2c03c39dcf918b08424e98f38b5ae0af88f"
   }
  }
 },
 "nbformat": 4,
 "nbformat_minor": 2
}
