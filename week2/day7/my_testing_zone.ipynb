{
 "cells": [
  {
   "cell_type": "code",
   "execution_count": 1,
   "metadata": {},
   "outputs": [],
   "source": [
    "import numpy as np"
   ]
  },
  {
   "cell_type": "code",
   "execution_count": 4,
   "metadata": {},
   "outputs": [
    {
     "name": "stdout",
     "output_type": "stream",
     "text": [
      "[1. 1. 1. 1. 1. 1. 1. 1. 1. 1. 1. 1. 1. 1. 1. 1. 1. 1. 1. 1. 1. 1. 1. 1.\n",
      " 1. 1. 1. 1. 1. 1. 1. 1. 1. 1. 1. 1.]\n",
      "[[1. 1. 1. 1. 1. 1.]\n",
      " [1. 1. 1. 1. 1. 1.]\n",
      " [1. 1. 1. 1. 1. 1.]\n",
      " [1. 1. 1. 1. 1. 1.]\n",
      " [1. 1. 1. 1. 1. 1.]\n",
      " [1. 1. 1. 1. 1. 1.]]\n",
      "[[[1. 1. 1. 1. 1. 1.]\n",
      "  [1. 1. 1. 1. 1. 1.]\n",
      "  [1. 1. 1. 1. 1. 1.]]\n",
      "\n",
      " [[1. 1. 1. 1. 1. 1.]\n",
      "  [1. 1. 1. 1. 1. 1.]\n",
      "  [1. 1. 1. 1. 1. 1.]]]\n",
      "6\n"
     ]
    }
   ],
   "source": [
    "\n",
    "\n",
    "# create a one-dimensional ndarray containing 36 ones\n",
    "ones_36 = np.ones(36)\n",
    "print(ones_36)\n",
    "\n",
    "# reshape as a 6 x 6, two-dimensional array\n",
    "ones_6x6 = np.reshape(ones_36, (6, 6))\n",
    "print(ones_6x6)\n",
    "\n",
    "# # reshape as a 2 x 3 x ? three-dimensional array\n",
    "ones_3d = ones_36.reshape(2, 3, 6)\n",
    "print(ones_3d)\n",
    "\n",
    "# # what was the third shape dimension for ones_3d?\n",
    "ones_3d_third_shape_value = 6\n",
    "print(ones_3d_third_shape_value)"
   ]
  },
  {
   "cell_type": "code",
   "execution_count": 9,
   "metadata": {},
   "outputs": [
    {
     "name": "stdout",
     "output_type": "stream",
     "text": [
      "[[ 1  2  3  4  5  6  7  8]\n",
      " [ 9 10 11 12 13 14 15 16]\n",
      " [17 18 19 20 21 22 23 24]\n",
      " [25 26 27 28 29 30 31 32]\n",
      " [33 34 35 36 37 38 39 40]\n",
      " [41 42 43 44 45 46 47 48]\n",
      " [49 50 51 52 53 54 55 56]\n",
      " [57 58 59 60 61 62 63 64]]\n",
      "[[ 1  9 17 25 33 41 49 57]\n",
      " [ 2 10 18 26 34 42 50 58]\n",
      " [ 3 11 19 27 35 43 51 59]\n",
      " [ 4 12 20 28 36 44 52 60]\n",
      " [ 5 13 21 29 37 45 53 61]\n",
      " [ 6 14 22 30 38 46 54 62]\n",
      " [ 7 15 23 31 39 47 55 63]\n",
      " [ 8 16 24 32 40 48 56 64]]\n"
     ]
    }
   ],
   "source": [
    "# Create an 8x8 array containing numbers from 1 to 64 and assign this array to array_64_8x8.\n",
    "# Assign its transpose to transposed_array_64_8x8.\n",
    "\n",
    "numbers = [i for i in range(1,65)]\n",
    "a = np.array(numbers).reshape((8,8))\n",
    "\n",
    "print(a)\n",
    "\n",
    "b = a.transpose()\n",
    "print(b)"
   ]
  }
 ],
 "metadata": {
  "kernelspec": {
   "display_name": "Python 3.9.13 ('base')",
   "language": "python",
   "name": "python3"
  },
  "language_info": {
   "codemirror_mode": {
    "name": "ipython",
    "version": 3
   },
   "file_extension": ".py",
   "mimetype": "text/x-python",
   "name": "python",
   "nbconvert_exporter": "python",
   "pygments_lexer": "ipython3",
   "version": "3.9.13"
  },
  "orig_nbformat": 4,
  "vscode": {
   "interpreter": {
    "hash": "40d3a090f54c6569ab1632332b64b2c03c39dcf918b08424e98f38b5ae0af88f"
   }
  }
 },
 "nbformat": 4,
 "nbformat_minor": 2
}
